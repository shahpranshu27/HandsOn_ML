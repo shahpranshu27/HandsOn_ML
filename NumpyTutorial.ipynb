{
  "nbformat": 4,
  "nbformat_minor": 0,
  "metadata": {
    "colab": {
      "provenance": [],
      "authorship_tag": "ABX9TyMbneojoYrDKUxicUw2jIfB",
      "include_colab_link": true
    },
    "kernelspec": {
      "name": "python3",
      "display_name": "Python 3"
    },
    "language_info": {
      "name": "python"
    }
  },
  "cells": [
    {
      "cell_type": "markdown",
      "metadata": {
        "id": "view-in-github",
        "colab_type": "text"
      },
      "source": [
        "<a href=\"https://colab.research.google.com/github/shahpranshu27/HandsOn_ML/blob/main/NumpyTutorial.ipynb\" target=\"_parent\"><img src=\"https://colab.research.google.com/assets/colab-badge.svg\" alt=\"Open In Colab\"/></a>"
      ]
    },
    {
      "cell_type": "markdown",
      "source": [
        "Ways to initialize nparray\n",
        "\n",
        "* np.ones()\n",
        "\n",
        "* np.zeros()\n",
        "\n",
        "* np.random()"
      ],
      "metadata": {
        "id": "7_fJtpWHUscX"
      }
    },
    {
      "cell_type": "code",
      "source": [
        "import numpy as np"
      ],
      "metadata": {
        "id": "owypA180L0j0"
      },
      "execution_count": 1,
      "outputs": []
    },
    {
      "cell_type": "code",
      "source": [
        "np.ones((3,4))"
      ],
      "metadata": {
        "colab": {
          "base_uri": "https://localhost:8080/"
        },
        "id": "_Q-Og_d7VasJ",
        "outputId": "b4ad6451-95cd-4edc-d908-9a6d48aa0650"
      },
      "execution_count": 2,
      "outputs": [
        {
          "output_type": "execute_result",
          "data": {
            "text/plain": [
              "array([[1., 1., 1., 1.],\n",
              "       [1., 1., 1., 1.],\n",
              "       [1., 1., 1., 1.]])"
            ]
          },
          "metadata": {},
          "execution_count": 2
        }
      ]
    },
    {
      "cell_type": "code",
      "source": [
        "np.zeros((3,4))"
      ],
      "metadata": {
        "colab": {
          "base_uri": "https://localhost:8080/"
        },
        "id": "VxPfli1hVcSD",
        "outputId": "c712cbc3-5ed8-4419-9ff7-695dad8cfad1"
      },
      "execution_count": 3,
      "outputs": [
        {
          "output_type": "execute_result",
          "data": {
            "text/plain": [
              "array([[0., 0., 0., 0.],\n",
              "       [0., 0., 0., 0.],\n",
              "       [0., 0., 0., 0.]])"
            ]
          },
          "metadata": {},
          "execution_count": 3
        }
      ]
    },
    {
      "cell_type": "code",
      "source": [
        "np.random.random((3,4))"
      ],
      "metadata": {
        "colab": {
          "base_uri": "https://localhost:8080/"
        },
        "id": "9a9sNJTyVeBS",
        "outputId": "8d6184d8-66f0-4ddd-8ac0-b23ad299df4c"
      },
      "execution_count": 4,
      "outputs": [
        {
          "output_type": "execute_result",
          "data": {
            "text/plain": [
              "array([[0.16028848, 0.37069044, 0.6619419 , 0.00725236],\n",
              "       [0.94624697, 0.17308027, 0.23799115, 0.47523902],\n",
              "       [0.06421715, 0.92841252, 0.05221186, 0.42854517]])"
            ]
          },
          "metadata": {},
          "execution_count": 4
        }
      ]
    },
    {
      "cell_type": "code",
      "source": [
        "np.linspace(0,10,5) # (lower bound, upper bound, number of items you want to generate)\n",
        "# what linspace or linearly space does is that, it takes lower and upper range, and divides 'n' numbers in linear way"
      ],
      "metadata": {
        "colab": {
          "base_uri": "https://localhost:8080/"
        },
        "id": "MO3B-LcTVf71",
        "outputId": "f0bdac93-08e7-4651-99b3-24f81b277ccb"
      },
      "execution_count": 5,
      "outputs": [
        {
          "output_type": "execute_result",
          "data": {
            "text/plain": [
              "array([ 0. ,  2.5,  5. ,  7.5, 10. ])"
            ]
          },
          "metadata": {},
          "execution_count": 5
        }
      ]
    },
    {
      "cell_type": "code",
      "source": [
        "np.identity(3) # matrix of nxn, where diagonal elemts are 1, others are 0"
      ],
      "metadata": {
        "colab": {
          "base_uri": "https://localhost:8080/"
        },
        "id": "flTwSwe-V3oz",
        "outputId": "40534801-6a8d-4642-e306-b18017ce9281"
      },
      "execution_count": 6,
      "outputs": [
        {
          "output_type": "execute_result",
          "data": {
            "text/plain": [
              "array([[1., 0., 0.],\n",
              "       [0., 1., 0.],\n",
              "       [0., 0., 1.]])"
            ]
          },
          "metadata": {},
          "execution_count": 6
        }
      ]
    },
    {
      "cell_type": "code",
      "source": [
        "# int32 takes 4 bytes\n",
        "# int64 takes 8 bytes, similar to float"
      ],
      "metadata": {
        "id": "uEt96hltWj3k"
      },
      "execution_count": 7,
      "outputs": []
    },
    {
      "cell_type": "code",
      "source": [
        "# Scalar Operations"
      ],
      "metadata": {
        "id": "nbTs4STvYQCx"
      },
      "execution_count": 8,
      "outputs": []
    },
    {
      "cell_type": "code",
      "source": [
        "# arithmetic\n",
        "a1 = np.arange(12)\n",
        "a2 = np.arange(12, 24)"
      ],
      "metadata": {
        "id": "zTgs7kUEEGdA"
      },
      "execution_count": 9,
      "outputs": []
    },
    {
      "cell_type": "code",
      "source": [
        "a1"
      ],
      "metadata": {
        "colab": {
          "base_uri": "https://localhost:8080/"
        },
        "id": "8493tFn7ENcw",
        "outputId": "0f55406c-9eef-49be-b97c-c13294d9598a"
      },
      "execution_count": 10,
      "outputs": [
        {
          "output_type": "execute_result",
          "data": {
            "text/plain": [
              "array([ 0,  1,  2,  3,  4,  5,  6,  7,  8,  9, 10, 11])"
            ]
          },
          "metadata": {},
          "execution_count": 10
        }
      ]
    },
    {
      "cell_type": "code",
      "source": [
        "a2"
      ],
      "metadata": {
        "colab": {
          "base_uri": "https://localhost:8080/"
        },
        "id": "wRYaI_RGEUf6",
        "outputId": "95ff99fa-d64b-4026-c3ae-56a5fad945a0"
      },
      "execution_count": 11,
      "outputs": [
        {
          "output_type": "execute_result",
          "data": {
            "text/plain": [
              "array([12, 13, 14, 15, 16, 17, 18, 19, 20, 21, 22, 23])"
            ]
          },
          "metadata": {},
          "execution_count": 11
        }
      ]
    },
    {
      "cell_type": "code",
      "source": [
        "print(a1 * 2)\n",
        "print(a1 - 5)"
      ],
      "metadata": {
        "colab": {
          "base_uri": "https://localhost:8080/"
        },
        "id": "pjOjY0hfEWhK",
        "outputId": "8632baec-6bdf-42ca-cb82-bb4f60a5bc60"
      },
      "execution_count": 12,
      "outputs": [
        {
          "output_type": "stream",
          "name": "stdout",
          "text": [
            "[ 0  2  4  6  8 10 12 14 16 18 20 22]\n",
            "[-5 -4 -3 -2 -1  0  1  2  3  4  5  6]\n"
          ]
        }
      ]
    },
    {
      "cell_type": "code",
      "source": [
        "# relational\n",
        "\n",
        "a1 > 2"
      ],
      "metadata": {
        "colab": {
          "base_uri": "https://localhost:8080/"
        },
        "id": "D2uWYXxGEYbX",
        "outputId": "249ec269-9697-417b-9011-08da923b85c0"
      },
      "execution_count": 13,
      "outputs": [
        {
          "output_type": "execute_result",
          "data": {
            "text/plain": [
              "array([False, False, False,  True,  True,  True,  True,  True,  True,\n",
              "        True,  True,  True])"
            ]
          },
          "metadata": {},
          "execution_count": 13
        }
      ]
    },
    {
      "cell_type": "code",
      "source": [
        "a2 > 9"
      ],
      "metadata": {
        "colab": {
          "base_uri": "https://localhost:8080/"
        },
        "id": "h0XbOLK5EhQz",
        "outputId": "bf911dae-4c34-4f46-8228-c913aadffad6"
      },
      "execution_count": 14,
      "outputs": [
        {
          "output_type": "execute_result",
          "data": {
            "text/plain": [
              "array([ True,  True,  True,  True,  True,  True,  True,  True,  True,\n",
              "        True,  True,  True])"
            ]
          },
          "metadata": {},
          "execution_count": 14
        }
      ]
    },
    {
      "cell_type": "code",
      "source": [
        "a2 == 15"
      ],
      "metadata": {
        "colab": {
          "base_uri": "https://localhost:8080/"
        },
        "id": "Kp_QacTwEin2",
        "outputId": "a9129674-2ef4-42b9-a773-18c3d22b7590"
      },
      "execution_count": 15,
      "outputs": [
        {
          "output_type": "execute_result",
          "data": {
            "text/plain": [
              "array([False, False, False,  True, False, False, False, False, False,\n",
              "       False, False, False])"
            ]
          },
          "metadata": {},
          "execution_count": 15
        }
      ]
    },
    {
      "cell_type": "code",
      "source": [
        "# vector operations"
      ],
      "metadata": {
        "id": "4AUKPdswEoqE"
      },
      "execution_count": 16,
      "outputs": []
    },
    {
      "cell_type": "code",
      "source": [
        "a1 + a2"
      ],
      "metadata": {
        "colab": {
          "base_uri": "https://localhost:8080/"
        },
        "id": "scPwM_RCROoZ",
        "outputId": "63869307-bd0b-413d-daa9-b1b2bb42846b"
      },
      "execution_count": 17,
      "outputs": [
        {
          "output_type": "execute_result",
          "data": {
            "text/plain": [
              "array([12, 14, 16, 18, 20, 22, 24, 26, 28, 30, 32, 34])"
            ]
          },
          "metadata": {},
          "execution_count": 17
        }
      ]
    },
    {
      "cell_type": "markdown",
      "source": [
        "Important Array Functions:\n",
        "* min/max/prod/sum\n",
        "\n",
        "* round/floor/ceil\n",
        "\n",
        "* mean/median/standard deviation/variance/trigonometry\n",
        "\n",
        "* arrays dot product\n",
        "\n",
        "* log and exponents\n"
      ],
      "metadata": {
        "id": "axZADkWrUYzr"
      }
    },
    {
      "cell_type": "markdown",
      "source": [
        "Indexing and Slicing"
      ],
      "metadata": {
        "id": "RBcq__2qbmt8"
      }
    },
    {
      "cell_type": "code",
      "source": [
        "a1 = np.arange(10)\n",
        "a2 = np.arange(12).reshape(3,4)\n",
        "a3 = np.arange(8).reshape(2,2,2)"
      ],
      "metadata": {
        "id": "_0vzjS-iVAB9"
      },
      "execution_count": 18,
      "outputs": []
    },
    {
      "cell_type": "code",
      "source": [
        "print(a1)\n",
        "print(a2)\n",
        "print(a3)"
      ],
      "metadata": {
        "colab": {
          "base_uri": "https://localhost:8080/"
        },
        "id": "kaigkLoFbysD",
        "outputId": "d229c278-f988-4525-8df7-e5dbadc6d9d4"
      },
      "execution_count": 19,
      "outputs": [
        {
          "output_type": "stream",
          "name": "stdout",
          "text": [
            "[0 1 2 3 4 5 6 7 8 9]\n",
            "[[ 0  1  2  3]\n",
            " [ 4  5  6  7]\n",
            " [ 8  9 10 11]]\n",
            "[[[0 1]\n",
            "  [2 3]]\n",
            "\n",
            " [[4 5]\n",
            "  [6 7]]]\n"
          ]
        }
      ]
    },
    {
      "cell_type": "code",
      "source": [
        "a2[0,:] # first row, all columns"
      ],
      "metadata": {
        "colab": {
          "base_uri": "https://localhost:8080/"
        },
        "id": "r_4LSNaDb2hg",
        "outputId": "4c1f531f-4c72-41b1-b9c4-c9ceeacb1aae"
      },
      "execution_count": 20,
      "outputs": [
        {
          "output_type": "execute_result",
          "data": {
            "text/plain": [
              "array([0, 1, 2, 3])"
            ]
          },
          "metadata": {},
          "execution_count": 20
        }
      ]
    },
    {
      "cell_type": "code",
      "source": [
        "a2[:,3] # all rows, fourth column"
      ],
      "metadata": {
        "colab": {
          "base_uri": "https://localhost:8080/"
        },
        "id": "CsM0JhQOde7X",
        "outputId": "4d864876-d513-43a5-9ec8-e8f48b5db63e"
      },
      "execution_count": 21,
      "outputs": [
        {
          "output_type": "execute_result",
          "data": {
            "text/plain": [
              "array([ 3,  7, 11])"
            ]
          },
          "metadata": {},
          "execution_count": 21
        }
      ]
    },
    {
      "cell_type": "code",
      "source": [
        "a2[1:3,1:3] # second and third row, second and third column"
      ],
      "metadata": {
        "colab": {
          "base_uri": "https://localhost:8080/"
        },
        "id": "BFZvBE6tdgqn",
        "outputId": "73a42a78-f155-4e2f-a59a-2fc1acd41e80"
      },
      "execution_count": 22,
      "outputs": [
        {
          "output_type": "execute_result",
          "data": {
            "text/plain": [
              "array([[ 5,  6],\n",
              "       [ 9, 10]])"
            ]
          },
          "metadata": {},
          "execution_count": 22
        }
      ]
    },
    {
      "cell_type": "code",
      "source": [
        "a2[0::2, 0::3]"
      ],
      "metadata": {
        "colab": {
          "base_uri": "https://localhost:8080/"
        },
        "id": "kGAyC__id0SQ",
        "outputId": "a1f69be5-9c2d-449c-e24d-8dc748b435d8"
      },
      "execution_count": 23,
      "outputs": [
        {
          "output_type": "execute_result",
          "data": {
            "text/plain": [
              "array([[ 0,  3],\n",
              "       [ 8, 11]])"
            ]
          },
          "metadata": {},
          "execution_count": 23
        }
      ]
    },
    {
      "cell_type": "code",
      "source": [
        "a2[::2, 1::2]"
      ],
      "metadata": {
        "colab": {
          "base_uri": "https://localhost:8080/"
        },
        "id": "U_i7k7K3eIV3",
        "outputId": "262a6091-e020-40d3-f839-c42f43898186"
      },
      "execution_count": 24,
      "outputs": [
        {
          "output_type": "execute_result",
          "data": {
            "text/plain": [
              "array([[ 1,  3],\n",
              "       [ 9, 11]])"
            ]
          },
          "metadata": {},
          "execution_count": 24
        }
      ]
    },
    {
      "cell_type": "code",
      "source": [
        "a2[1, ::3]"
      ],
      "metadata": {
        "colab": {
          "base_uri": "https://localhost:8080/"
        },
        "id": "svA3DAVperM_",
        "outputId": "2588bc3a-b40c-4f32-a81a-fd306f43a026"
      },
      "execution_count": 25,
      "outputs": [
        {
          "output_type": "execute_result",
          "data": {
            "text/plain": [
              "array([4, 7])"
            ]
          },
          "metadata": {},
          "execution_count": 25
        }
      ]
    },
    {
      "cell_type": "code",
      "source": [
        "# Transpose -> rows gets converted to columns, and cols get converted to rows\n",
        "# ravel -> it converts array of any dimensions to 1D array"
      ],
      "metadata": {
        "id": "abAoq6Rjf9HG"
      },
      "execution_count": 26,
      "outputs": []
    },
    {
      "cell_type": "markdown",
      "source": [
        "Stacking\n",
        "\n",
        "* Horizontal stacking\n",
        "\n",
        "* Vertical stacking"
      ],
      "metadata": {
        "id": "2iar2Vqq90jw"
      }
    },
    {
      "cell_type": "code",
      "source": [
        "# hstack\n",
        "a4 = np.arange(12).reshape(3,4)\n",
        "a5 = np.arange(12,24).reshape(3,4)"
      ],
      "metadata": {
        "id": "dJ3VhX2M9Hpv"
      },
      "execution_count": 27,
      "outputs": []
    },
    {
      "cell_type": "code",
      "source": [
        "a4"
      ],
      "metadata": {
        "colab": {
          "base_uri": "https://localhost:8080/"
        },
        "id": "_P_K9KPg98H9",
        "outputId": "97eb02d9-bfb2-492f-a0e9-51bf24308c60"
      },
      "execution_count": 28,
      "outputs": [
        {
          "output_type": "execute_result",
          "data": {
            "text/plain": [
              "array([[ 0,  1,  2,  3],\n",
              "       [ 4,  5,  6,  7],\n",
              "       [ 8,  9, 10, 11]])"
            ]
          },
          "metadata": {},
          "execution_count": 28
        }
      ]
    },
    {
      "cell_type": "code",
      "source": [
        "a5"
      ],
      "metadata": {
        "colab": {
          "base_uri": "https://localhost:8080/"
        },
        "id": "kLOYjaA498jb",
        "outputId": "d11b9b23-67f9-444b-c253-f33977e6b520"
      },
      "execution_count": 29,
      "outputs": [
        {
          "output_type": "execute_result",
          "data": {
            "text/plain": [
              "array([[12, 13, 14, 15],\n",
              "       [16, 17, 18, 19],\n",
              "       [20, 21, 22, 23]])"
            ]
          },
          "metadata": {},
          "execution_count": 29
        }
      ]
    },
    {
      "cell_type": "code",
      "source": [
        "np.hstack((a4,a5))"
      ],
      "metadata": {
        "colab": {
          "base_uri": "https://localhost:8080/"
        },
        "id": "umrMox1X9803",
        "outputId": "1f979d0b-e76a-4703-f2c8-b74e25c4eb39"
      },
      "execution_count": 30,
      "outputs": [
        {
          "output_type": "execute_result",
          "data": {
            "text/plain": [
              "array([[ 0,  1,  2,  3, 12, 13, 14, 15],\n",
              "       [ 4,  5,  6,  7, 16, 17, 18, 19],\n",
              "       [ 8,  9, 10, 11, 20, 21, 22, 23]])"
            ]
          },
          "metadata": {},
          "execution_count": 30
        }
      ]
    },
    {
      "cell_type": "code",
      "source": [
        "# vstack\n",
        "np.vstack((a4,a5))"
      ],
      "metadata": {
        "colab": {
          "base_uri": "https://localhost:8080/"
        },
        "id": "jdGunX7R9-kR",
        "outputId": "09472c73-18a8-4c90-bb84-de8c1800157e"
      },
      "execution_count": 31,
      "outputs": [
        {
          "output_type": "execute_result",
          "data": {
            "text/plain": [
              "array([[ 0,  1,  2,  3],\n",
              "       [ 4,  5,  6,  7],\n",
              "       [ 8,  9, 10, 11],\n",
              "       [12, 13, 14, 15],\n",
              "       [16, 17, 18, 19],\n",
              "       [20, 21, 22, 23]])"
            ]
          },
          "metadata": {},
          "execution_count": 31
        }
      ]
    },
    {
      "cell_type": "markdown",
      "source": [
        "Splitting\n",
        "\n",
        "* Horizontal split\n",
        "\n",
        "* Vertical split"
      ],
      "metadata": {
        "id": "b56SOqmn-D0y"
      }
    },
    {
      "cell_type": "code",
      "source": [
        "# hsplit\n",
        "np.hsplit(a4,2)"
      ],
      "metadata": {
        "colab": {
          "base_uri": "https://localhost:8080/"
        },
        "id": "YcRepNY9-Bjs",
        "outputId": "42f98bad-8176-47e8-d54a-c8d79b9098b8"
      },
      "execution_count": 32,
      "outputs": [
        {
          "output_type": "execute_result",
          "data": {
            "text/plain": [
              "[array([[0, 1],\n",
              "        [4, 5],\n",
              "        [8, 9]]),\n",
              " array([[ 2,  3],\n",
              "        [ 6,  7],\n",
              "        [10, 11]])]"
            ]
          },
          "metadata": {},
          "execution_count": 32
        }
      ]
    },
    {
      "cell_type": "code",
      "source": [
        "# vsplit\n",
        "np.vsplit(a4,3)"
      ],
      "metadata": {
        "colab": {
          "base_uri": "https://localhost:8080/"
        },
        "id": "IomlyQd9-fl4",
        "outputId": "4ef6ad4a-abeb-456b-c73f-4854ca28d848"
      },
      "execution_count": 33,
      "outputs": [
        {
          "output_type": "execute_result",
          "data": {
            "text/plain": [
              "[array([[0, 1, 2, 3]]), array([[4, 5, 6, 7]]), array([[ 8,  9, 10, 11]])]"
            ]
          },
          "metadata": {},
          "execution_count": 33
        }
      ]
    },
    {
      "cell_type": "code",
      "source": [
        "# Fancy indexing -> to get any row or col, where we can not get any pattern\n",
        "a = np.arange(24).reshape(6,4)"
      ],
      "metadata": {
        "id": "M-8SvIhk-juS"
      },
      "execution_count": 35,
      "outputs": []
    },
    {
      "cell_type": "code",
      "source": [
        "a"
      ],
      "metadata": {
        "colab": {
          "base_uri": "https://localhost:8080/"
        },
        "id": "iIvCZF7XahiN",
        "outputId": "e161a1ce-5172-4607-d329-9f2f039becc3"
      },
      "execution_count": 36,
      "outputs": [
        {
          "output_type": "execute_result",
          "data": {
            "text/plain": [
              "array([[ 0,  1,  2,  3],\n",
              "       [ 4,  5,  6,  7],\n",
              "       [ 8,  9, 10, 11],\n",
              "       [12, 13, 14, 15],\n",
              "       [16, 17, 18, 19],\n",
              "       [20, 21, 22, 23]])"
            ]
          },
          "metadata": {},
          "execution_count": 36
        }
      ]
    },
    {
      "cell_type": "code",
      "source": [
        "a[[0,2,3], :]"
      ],
      "metadata": {
        "colab": {
          "base_uri": "https://localhost:8080/"
        },
        "id": "UnlSeP3dal-8",
        "outputId": "36f4f8c7-82ca-43b1-88d5-8aee767c0326"
      },
      "execution_count": 39,
      "outputs": [
        {
          "output_type": "execute_result",
          "data": {
            "text/plain": [
              "array([[ 0,  1,  2,  3],\n",
              "       [ 8,  9, 10, 11],\n",
              "       [12, 13, 14, 15]])"
            ]
          },
          "metadata": {},
          "execution_count": 39
        }
      ]
    },
    {
      "cell_type": "code",
      "source": [
        "a[:, [0,2,3]]"
      ],
      "metadata": {
        "colab": {
          "base_uri": "https://localhost:8080/"
        },
        "id": "Vsof3eSvaotq",
        "outputId": "33bd8376-2697-4387-960b-e9bf15612966"
      },
      "execution_count": 38,
      "outputs": [
        {
          "output_type": "execute_result",
          "data": {
            "text/plain": [
              "array([[ 0,  2,  3],\n",
              "       [ 4,  6,  7],\n",
              "       [ 8, 10, 11],\n",
              "       [12, 14, 15],\n",
              "       [16, 18, 19],\n",
              "       [20, 22, 23]])"
            ]
          },
          "metadata": {},
          "execution_count": 38
        }
      ]
    },
    {
      "cell_type": "code",
      "source": [
        "# boolean indexing\n",
        "a = np.random.randint(1,100,24).reshape(6,4)\n",
        "a"
      ],
      "metadata": {
        "colab": {
          "base_uri": "https://localhost:8080/"
        },
        "id": "kvrKuB3kayg9",
        "outputId": "69742d07-04e5-4a51-f046-5dd4fe69b0b4"
      },
      "execution_count": 41,
      "outputs": [
        {
          "output_type": "execute_result",
          "data": {
            "text/plain": [
              "array([[31, 20, 72,  5],\n",
              "       [53, 68, 57, 86],\n",
              "       [59, 50, 91,  2],\n",
              "       [28, 84, 80, 95],\n",
              "       [95, 89, 42, 61],\n",
              "       [70, 81, 32, 31]])"
            ]
          },
          "metadata": {},
          "execution_count": 41
        }
      ]
    },
    {
      "cell_type": "code",
      "source": [
        "# find all numbers greater than 50\n",
        "a > 50"
      ],
      "metadata": {
        "colab": {
          "base_uri": "https://localhost:8080/"
        },
        "id": "ISHfF7IZeJsP",
        "outputId": "f46f86cb-adb6-4c34-cbfd-71ae2417a28e"
      },
      "execution_count": 42,
      "outputs": [
        {
          "output_type": "execute_result",
          "data": {
            "text/plain": [
              "array([[False, False,  True, False],\n",
              "       [ True,  True,  True,  True],\n",
              "       [ True, False,  True, False],\n",
              "       [False,  True,  True,  True],\n",
              "       [ True,  True, False,  True],\n",
              "       [ True,  True, False, False]])"
            ]
          },
          "metadata": {},
          "execution_count": 42
        }
      ]
    },
    {
      "cell_type": "code",
      "source": [
        "a[a > 50]"
      ],
      "metadata": {
        "colab": {
          "base_uri": "https://localhost:8080/"
        },
        "id": "KafhW0JfeZQw",
        "outputId": "f8b169d2-c5f6-404f-e3d2-8410ee631cb2"
      },
      "execution_count": 43,
      "outputs": [
        {
          "output_type": "execute_result",
          "data": {
            "text/plain": [
              "array([72, 53, 68, 57, 86, 59, 91, 84, 80, 95, 95, 89, 61, 70, 81])"
            ]
          },
          "metadata": {},
          "execution_count": 43
        }
      ]
    },
    {
      "cell_type": "code",
      "source": [
        "# find all numbers greater than 50 and are even\n",
        "a%2 == 0"
      ],
      "metadata": {
        "colab": {
          "base_uri": "https://localhost:8080/"
        },
        "id": "tO4Taj7KekbU",
        "outputId": "032c7225-908f-4258-a69e-bbadf6018cb7"
      },
      "execution_count": 46,
      "outputs": [
        {
          "output_type": "execute_result",
          "data": {
            "text/plain": [
              "array([[False,  True,  True, False],\n",
              "       [False,  True, False,  True],\n",
              "       [False,  True, False,  True],\n",
              "       [ True,  True,  True, False],\n",
              "       [False, False,  True, False],\n",
              "       [ True, False,  True, False]])"
            ]
          },
          "metadata": {},
          "execution_count": 46
        }
      ]
    },
    {
      "cell_type": "code",
      "source": [
        "a[a%2 == 0]"
      ],
      "metadata": {
        "colab": {
          "base_uri": "https://localhost:8080/"
        },
        "id": "hhnjfbOBevdM",
        "outputId": "758af6dc-244b-48ff-e4e8-dde5da241fba"
      },
      "execution_count": 47,
      "outputs": [
        {
          "output_type": "execute_result",
          "data": {
            "text/plain": [
              "array([20, 72, 68, 86, 50,  2, 28, 84, 80, 42, 70, 32])"
            ]
          },
          "metadata": {},
          "execution_count": 47
        }
      ]
    },
    {
      "cell_type": "code",
      "source": [
        "a[(a > 50) & (a%2 == 0)]"
      ],
      "metadata": {
        "colab": {
          "base_uri": "https://localhost:8080/"
        },
        "id": "RYLqYiJke4om",
        "outputId": "b538d13e-fc40-48c3-ec59-8741eac96046"
      },
      "execution_count": 49,
      "outputs": [
        {
          "output_type": "execute_result",
          "data": {
            "text/plain": [
              "array([72, 68, 86, 84, 80, 70])"
            ]
          },
          "metadata": {},
          "execution_count": 49
        }
      ]
    },
    {
      "cell_type": "markdown",
      "source": [
        "Broadcasting\n",
        "\n",
        "![02.05-broadcasting.png](data:image/png;base64,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)\n",
        "\n",
        "It replicates"
      ],
      "metadata": {
        "id": "AcUMPv9TmQOp"
      }
    },
    {
      "cell_type": "markdown",
      "source": [
        "Broadcasting Rules\n",
        "\n",
        "1. Make the 2 arrays have same number of dimensions\n",
        "\n",
        "  * If the number of dimensions of the 2 arrays are different, add new dimension with size 1 to the head (ahead/front) of the array with smaller dimension.\n",
        "\n",
        "2. Make each dimension of 2 arrays the same size\n",
        "\n",
        "  * If the sizes of each dimensions of 2 arrays do not match, dimensions with size 1 are stretched to size of other array\n",
        "\n",
        "  * If there's a dimension whose size if not 1 in either of 2 arrays, it can't be broadcasted, and an error is raised."
      ],
      "metadata": {
        "id": "qMeKhqX8neQF"
      }
    },
    {
      "cell_type": "code",
      "source": [
        "a = np.arange(6).reshape(2,3)\n",
        "b = np.arange(3).reshape(1,3)\n",
        "\n",
        "print(a)\n",
        "print(b)\n",
        "print(a+b)"
      ],
      "metadata": {
        "colab": {
          "base_uri": "https://localhost:8080/"
        },
        "id": "SMBQE34Ue_tj",
        "outputId": "90a2498e-39b1-4d1e-ce9d-5e00860404da"
      },
      "execution_count": 51,
      "outputs": [
        {
          "output_type": "stream",
          "name": "stdout",
          "text": [
            "[[0 1 2]\n",
            " [3 4 5]]\n",
            "[[0 1 2]]\n",
            "[[0 2 4]\n",
            " [3 5 7]]\n"
          ]
        }
      ]
    },
    {
      "cell_type": "code",
      "source": [
        "a = np.arange(12).reshape(3,4)\n",
        "b = np.arange(3).reshape(3)\n",
        "\n",
        "print(a)\n",
        "print(b)\n",
        "print(a+b)"
      ],
      "metadata": {
        "colab": {
          "base_uri": "https://localhost:8080/",
          "height": 245
        },
        "id": "PXkuzBJ_muiu",
        "outputId": "7f9ca813-5f9b-4905-d852-da77ad52fdef"
      },
      "execution_count": 53,
      "outputs": [
        {
          "output_type": "stream",
          "name": "stdout",
          "text": [
            "[[ 0  1  2  3]\n",
            " [ 4  5  6  7]\n",
            " [ 8  9 10 11]]\n",
            "[0 1 2]\n"
          ]
        },
        {
          "output_type": "error",
          "ename": "ValueError",
          "evalue": "operands could not be broadcast together with shapes (3,4) (3,) ",
          "traceback": [
            "\u001b[0;31m---------------------------------------------------------------------------\u001b[0m",
            "\u001b[0;31mValueError\u001b[0m                                Traceback (most recent call last)",
            "\u001b[0;32m<ipython-input-53-1fdc1f23c26b>\u001b[0m in \u001b[0;36m<cell line: 6>\u001b[0;34m()\u001b[0m\n\u001b[1;32m      4\u001b[0m \u001b[0mprint\u001b[0m\u001b[0;34m(\u001b[0m\u001b[0ma\u001b[0m\u001b[0;34m)\u001b[0m\u001b[0;34m\u001b[0m\u001b[0;34m\u001b[0m\u001b[0m\n\u001b[1;32m      5\u001b[0m \u001b[0mprint\u001b[0m\u001b[0;34m(\u001b[0m\u001b[0mb\u001b[0m\u001b[0;34m)\u001b[0m\u001b[0;34m\u001b[0m\u001b[0;34m\u001b[0m\u001b[0m\n\u001b[0;32m----> 6\u001b[0;31m \u001b[0mprint\u001b[0m\u001b[0;34m(\u001b[0m\u001b[0ma\u001b[0m\u001b[0;34m+\u001b[0m\u001b[0mb\u001b[0m\u001b[0;34m)\u001b[0m\u001b[0;34m\u001b[0m\u001b[0;34m\u001b[0m\u001b[0m\n\u001b[0m",
            "\u001b[0;31mValueError\u001b[0m: operands could not be broadcast together with shapes (3,4) (3,) "
          ]
        }
      ]
    },
    {
      "cell_type": "code",
      "source": [],
      "metadata": {
        "id": "rJJXsI7GubyD"
      },
      "execution_count": null,
      "outputs": []
    }
  ]
}