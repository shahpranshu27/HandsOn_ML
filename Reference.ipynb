{
  "nbformat": 4,
  "nbformat_minor": 0,
  "metadata": {
    "colab": {
      "provenance": [],
      "authorship_tag": "ABX9TyOLObqc4rxRxJ8JkUiPmQH3",
      "include_colab_link": true
    },
    "kernelspec": {
      "name": "python3",
      "display_name": "Python 3"
    },
    "language_info": {
      "name": "python"
    }
  },
  "cells": [
    {
      "cell_type": "markdown",
      "metadata": {
        "id": "view-in-github",
        "colab_type": "text"
      },
      "source": [
        "<a href=\"https://colab.research.google.com/github/shahpranshu27/HandsOn_ML/blob/main/Reference.ipynb\" target=\"_parent\"><img src=\"https://colab.research.google.com/assets/colab-badge.svg\" alt=\"Open In Colab\"/></a>"
      ]
    },
    {
      "cell_type": "markdown",
      "source": [
        "# Data Analysis Process\n",
        "\n",
        "1. Asking right questions (comes with experience, business/domain knowledge)\n",
        "\n",
        "2. Data Wrangling\n",
        "\n",
        "  a) Data Gathering (https://www.youtube.com/watch?v=dA6ZksRR6aw&list=PLKnIA16_RmvbAlyx4_rdtR66B7EHX5k3z&index=82&pp=iAQB) -> Refer to this\n",
        "\n",
        "  b) Assessing Data\n",
        "\n",
        "  c) Cleaning Data\n",
        "\n",
        "3. Exploratory Data Analysis\n",
        "\n",
        "4. Drawing conclusions\n",
        "\n",
        "5. Communicating results"
      ],
      "metadata": {
        "id": "4pgJs_t9TQ1d"
      }
    },
    {
      "cell_type": "code",
      "source": [],
      "metadata": {
        "id": "ovcS0XyzUClN"
      },
      "execution_count": null,
      "outputs": []
    }
  ]
}